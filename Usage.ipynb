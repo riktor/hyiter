{
 "cells": [
  {
   "cell_type": "code",
   "execution_count": 1,
   "metadata": {},
   "outputs": [],
   "source": [
    "(import (hycl.core (*)))\n",
    "(require (hycl.core (*)))"
   ]
  },
  {
   "cell_type": "code",
   "execution_count": 2,
   "metadata": {},
   "outputs": [],
   "source": [
    "(import (hyiter.core (*)))\n",
    "(require (hyiter.core (*)))"
   ]
  },
  {
   "cell_type": "code",
   "execution_count": 3,
   "metadata": {},
   "outputs": [
    {
     "name": "stdout",
     "output_type": "stream",
     "text": [
      "0\n",
      "1\n",
      "2\n",
      "3\n",
      "4\n",
      "5\n",
      "6\n",
      "7\n",
      "8\n",
      "9\n"
     ]
    }
   ],
   "source": [
    ";; simple loop\n",
    "(iter\n",
    " (_for i from 0 below 10)\n",
    " (print i))"
   ]
  },
  {
   "cell_type": "code",
   "execution_count": 4,
   "metadata": {},
   "outputs": [
    {
     "name": "stdout",
     "output_type": "stream",
     "text": [
      "0\n",
      "2\n",
      "4\n",
      "6\n",
      "8\n"
     ]
    }
   ],
   "source": [
    ";; stepping\n",
    "(iter\n",
    " (_for i from 0 below 10 by 2)\n",
    " (print i))"
   ]
  },
  {
   "cell_type": "code",
   "execution_count": 5,
   "metadata": {},
   "outputs": [
    {
     "name": "stdout",
     "output_type": "stream",
     "text": [
      "0\n",
      "1\n",
      "2\n",
      "3\n",
      "4\n",
      "5\n",
      "6\n",
      "7\n",
      "8\n",
      "9\n",
      "10\n"
     ]
    }
   ],
   "source": [
    ";; bounding\n",
    "(iter\n",
    " (_for i from 0 upto 10)\n",
    " (print i))"
   ]
  },
  {
   "cell_type": "code",
   "execution_count": 6,
   "metadata": {},
   "outputs": [
    {
     "name": "stdout",
     "output_type": "stream",
     "text": [
      "(1 2 3)\n",
      "(2 3)\n",
      "(3)\n"
     ]
    }
   ],
   "source": [
    ";; arbitrary consuming(or transforming) function\n",
    "(iter\n",
    " (_for x = '(1 2 3) then (cdr x))\n",
    " (if x\n",
    "     (print x)\n",
    "     (break)))"
   ]
  },
  {
   "cell_type": "code",
   "execution_count": 7,
   "metadata": {},
   "outputs": [
    {
     "name": "stdout",
     "output_type": "stream",
     "text": [
      "(2 4 6)\n",
      "(4 6)\n",
      "(6)\n"
     ]
    }
   ],
   "source": [
    ";; dependent parallel variables\n",
    "(iter\n",
    " (_for x = '(1 2 3) then (cdr x))\n",
    " (_for y = (mapcar (lambda (el) (* el 2)) x))\n",
    " (if x\n",
    "     (print y)\n",
    "     (break)))"
   ]
  },
  {
   "cell_type": "code",
   "execution_count": 8,
   "metadata": {},
   "outputs": [
    {
     "name": "stdout",
     "output_type": "stream",
     "text": [
      "1\n",
      "2\n",
      "3\n"
     ]
    }
   ],
   "source": [
    ";; loop on iterable \n",
    "(iter\n",
    " (_for i in '(1 2 3))\n",
    " (print i))"
   ]
  },
  {
   "cell_type": "code",
   "execution_count": 9,
   "metadata": {},
   "outputs": [
    {
     "name": "stdout",
     "output_type": "stream",
     "text": [
      "LOOP Start!\n",
      "1\n",
      "2\n",
      "3\n"
     ]
    }
   ],
   "source": [
    ";; initial proc\n",
    "(iter\n",
    " (_initially\n",
    "  (print \"LOOP Start!\"))\n",
    " (_for i in '(1 2 3))\n",
    " (print i))"
   ]
  },
  {
   "cell_type": "code",
   "execution_count": 10,
   "metadata": {},
   "outputs": [
    {
     "name": "stdout",
     "output_type": "stream",
     "text": [
      "1\n",
      "2\n",
      "3\n",
      "LOOP Finish!\n"
     ]
    }
   ],
   "source": [
    ";; final proc\n",
    "(iter\n",
    " (_for i in '(1 2 3))\n",
    " (print i)\n",
    " (_finally\n",
    "  (print \"LOOP Finish!\")))"
   ]
  },
  {
   "cell_type": "code",
   "execution_count": 11,
   "metadata": {},
   "outputs": [
    {
     "name": "stdout",
     "output_type": "stream",
     "text": [
      "1\n",
      "2\n",
      "3\n",
      "1\n",
      "2\n",
      "3\n",
      "1\n",
      "2\n",
      "3\n"
     ]
    }
   ],
   "source": [
    ";; nested loop\n",
    "(iter\n",
    " (_for i in '(1 2 3))\n",
    " (iter\n",
    "  (_for j in '(1 2 3))\n",
    "  (print j)))"
   ]
  },
  {
   "cell_type": "code",
   "execution_count": 12,
   "metadata": {},
   "outputs": [
    {
     "name": "stdout",
     "output_type": "stream",
     "text": [
      "[0, 20, 40, 60, 80]\n"
     ]
    }
   ],
   "source": [
    ";; collecting items into (python)list\n",
    "(print (iter\n",
    "        (_for i in (range 10))\n",
    "        (when (= (% i 2) 0)\n",
    "           (_collect (* 10 i)))))"
   ]
  },
  {
   "cell_type": "code",
   "execution_count": 13,
   "metadata": {},
   "outputs": [
    {
     "name": "stdout",
     "output_type": "stream",
     "text": [
      "[0, 2, 4, 6, 8]\n",
      "[1, 3, 5, 7, 9]\n"
     ]
    }
   ],
   "source": [
    ";; collecting items into accumulator\n",
    "(iter\n",
    "  (_for i in (range 10))\n",
    "  (if (= (% i 2) 0)\n",
    "      (_collect i into evns)\n",
    "      (_collect i into odds))\n",
    "  (_finally\n",
    "    (print evns)\n",
    "    (print odds)))"
   ]
  },
  {
   "cell_type": "code",
   "execution_count": 14,
   "metadata": {},
   "outputs": [
    {
     "name": "stdout",
     "output_type": "stream",
     "text": [
      "[0, 0, 1, 0, 1, 2]\n"
     ]
    }
   ],
   "source": [
    ";; appending list items into (python) list\n",
    "(print (iter\n",
    "         (_for i in (range 1 4))\n",
    "         (_append (list (range i)))))"
   ]
  },
  {
   "cell_type": "code",
   "execution_count": 15,
   "metadata": {},
   "outputs": [
    {
     "name": "stdout",
     "output_type": "stream",
     "text": [
      "9\n"
     ]
    }
   ],
   "source": [
    ";; maximizing\n",
    "(print (iter\n",
    "         (_for i in (range 10))\n",
    "         (_maximize i)))"
   ]
  },
  {
   "cell_type": "code",
   "execution_count": 16,
   "metadata": {},
   "outputs": [
    {
     "name": "stdout",
     "output_type": "stream",
     "text": [
      "0\n"
     ]
    }
   ],
   "source": [
    ";; minimizing\n",
    "(print (iter\n",
    "         (_for i in (range 10))\n",
    "         (_minimize i)))"
   ]
  },
  {
   "cell_type": "code",
   "execution_count": 17,
   "metadata": {},
   "outputs": [
    {
     "name": "stdout",
     "output_type": "stream",
     "text": [
      "45\n"
     ]
    }
   ],
   "source": [
    ";; summing up the given values\n",
    "(print (iter\n",
    "         (_for i in (range 10))\n",
    "         (_sum i)))"
   ]
  },
  {
   "cell_type": "code",
   "execution_count": 18,
   "metadata": {},
   "outputs": [
    {
     "name": "stdout",
     "output_type": "stream",
     "text": [
      "5\n"
     ]
    }
   ],
   "source": [
    ";; counting not nil(False) form\n",
    "(print (iter\n",
    "         (_for i in (range 10))\n",
    "         (_count (= (% i 2) 0))))"
   ]
  },
  {
   "cell_type": "code",
   "execution_count": 19,
   "metadata": {},
   "outputs": [
    {
     "name": "stdout",
     "output_type": "stream",
     "text": [
      "0\n",
      "Escape!\n"
     ]
    }
   ],
   "source": [
    ";; escape with sexp value\n",
    "(print (iter\n",
    "        (_for i in (range 10))\n",
    "        (print i)\n",
    "        (return \"Escape!\")))"
   ]
  },
  {
   "cell_type": "code",
   "execution_count": 20,
   "metadata": {
    "scrolled": true
   },
   "outputs": [
    {
     "name": "stdout",
     "output_type": "stream",
     "text": [
      "i: 0\n",
      "j: 0\n",
      "100\n"
     ]
    }
   ],
   "source": [
    ";; global escape with tag\n",
    "(print (iter :top-level\n",
    "         (_for i in (range 10))\n",
    "         (print \"i:\" i)\n",
    "         (iter\n",
    "           (_while True)\n",
    "           (iter\n",
    "             (_for j in (range 5))\n",
    "             (print \"j:\" j)\n",
    "             (return-from ':top-level 100)))))"
   ]
  },
  {
   "cell_type": "code",
   "execution_count": 21,
   "metadata": {},
   "outputs": [
    {
     "name": "stdout",
     "output_type": "stream",
     "text": [
      "Put it together!\n",
      "Collected!\n",
      "even list: (8 6 4 2 0)\n",
      "odd list: (9 7 5 3 1)\n",
      "result [(0 . 0), (1 . 10), (2 . 20), (3 . 30), (4 . 40), (5 . 50), (6 . 60), (7 . 70), (8 . 80), (9 . 90)]\n"
     ]
    }
   ],
   "source": [
    ";; put it together\n",
    "(print \"result\"\n",
    "       (iter\n",
    "         (_initially\n",
    "           (print \"Put it together!\"))\n",
    "         (_with odd = nil)\n",
    "         (_with evn = nil)\n",
    "         (_for i in (range 10))\n",
    "         (_for j = (* i 10))\n",
    "         (if (= (% i 2) 0)\n",
    "             (push i evn)\n",
    "             (push i odd))\n",
    "         (_collect `(~i . ~j))\n",
    "         (_finally\n",
    "           (print \"Collected!\")\n",
    "           (print \"even list:\" evn)\n",
    "           (print \"odd list:\" odd))))\n"
   ]
  },
  {
   "cell_type": "code",
   "execution_count": 22,
   "metadata": {},
   "outputs": [
    {
     "name": "stdout",
     "output_type": "stream",
     "text": [
      "1\n",
      "2\n",
      "3\n",
      "4\n"
     ]
    }
   ],
   "source": [
    ";; destructuring bind in with clause\n",
    "(iter\n",
    " (_with (a b (c d)) = '(1 2 (3 4)))\n",
    " (print a)\n",
    " (print b)\n",
    " (print c)\n",
    " (print d)\n",
    " (break))"
   ]
  },
  {
   "cell_type": "code",
   "execution_count": 23,
   "metadata": {},
   "outputs": [
    {
     "name": "stdout",
     "output_type": "stream",
     "text": [
      "0 5\n",
      "1 6\n"
     ]
    }
   ],
   "source": [
    ";; destructuring bind in for clause part 1\n",
    "(iter\n",
    "  (_for i in (range 2))  \n",
    "  (_for (a b) = `(~i ~(+ i 5)))\n",
    "  (print a b))"
   ]
  },
  {
   "cell_type": "code",
   "execution_count": 24,
   "metadata": {},
   "outputs": [
    {
     "name": "stdout",
     "output_type": "stream",
     "text": [
      "a 10\n",
      "b 20\n"
     ]
    }
   ],
   "source": [
    ";; destructuring bind in for clause part 2\n",
    "(iter\n",
    "  (_for (k v) in (.items {\"a\" 10 \"b\" 20}))\n",
    "  (print k v))"
   ]
  },
  {
   "cell_type": "code",
   "execution_count": 25,
   "metadata": {},
   "outputs": [
    {
     "name": "stdout",
     "output_type": "stream",
     "text": [
      "0 0 0\n",
      "1 1 1\n",
      "2 2 2\n",
      "3 3 3\n",
      "4 4 4\n",
      "5 5 5\n",
      "6 6 6\n",
      "7 7 7\n",
      "8 8 8\n",
      "9 9 9\n"
     ]
    }
   ],
   "source": [
    ";; destructuring bind in for clause: example\n",
    "(iter\n",
    "  (_for ((a b) c) in (reduce zip [(range 10) (range 10) (range 10)]))\n",
    "  (print a b c))"
   ]
  },
  {
   "cell_type": "code",
   "execution_count": 26,
   "metadata": {},
   "outputs": [
    {
     "name": "stdout",
     "output_type": "stream",
     "text": [
      "0\n",
      "2\n",
      "4\n",
      "6\n",
      "8\n"
     ]
    }
   ],
   "source": [
    ";; while clause\n",
    "(iter\n",
    "  (_for i = 0 then (+ i 2))\n",
    "  (_while (< i 10))\n",
    "  (print i))"
   ]
  },
  {
   "cell_type": "code",
   "execution_count": 27,
   "metadata": {},
   "outputs": [
    {
     "name": "stdout",
     "output_type": "stream",
     "text": [
      "spam\n",
      "spam\n",
      "spam\n",
      "spam\n",
      "spam\n"
     ]
    }
   ],
   "source": [
    ";; repeat clause\n",
    "(iter\n",
    "  (_repeat 5)\n",
    "  (print \"spam\"))"
   ]
  },
  {
   "cell_type": "code",
   "execution_count": null,
   "metadata": {},
   "outputs": [],
   "source": []
  }
 ],
 "metadata": {
  "kernelspec": {
   "display_name": "Calysto Hy",
   "language": "hy",
   "name": "calysto_hy"
  },
  "language_info": {
   "codemirror_mode": {
    "name": "scheme"
   },
   "mimetype": "text/x-hylang",
   "name": "hy",
   "pygments_lexer": "lisp"
  }
 },
 "nbformat": 4,
 "nbformat_minor": 2
}
