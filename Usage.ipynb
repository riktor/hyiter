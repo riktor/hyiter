{
 "cells": [
  {
   "cell_type": "code",
   "execution_count": 2,
   "metadata": {
    "autoscroll": false,
    "ein.tags": "worksheet-0",
    "slideshow": {
     "slide_type": "-"
    }
   },
   "outputs": [],
   "source": [
    "(require (hyiter.core (iter)))"
   ]
  },
  {
   "cell_type": "code",
   "execution_count": 2,
   "metadata": {
    "autoscroll": false,
    "ein.tags": "worksheet-0",
    "slideshow": {
     "slide_type": "-"
    }
   },
   "outputs": [
    {
     "name": "stderr",
     "output_type": "stream",
     "text": [
      "\u001b[0;31mTraceback (most recent call last):\n",
      "  File \"/usr/lib/python3.6/site-packages/calysto_hy/kernel.py\", line 95, in do_execute_direct\n",
      "    _ast = hy_compile(tokens, '', root=ast.Interactive)\n",
      "  File \"/usr/lib/python3.6/site-packages/hy/compiler.py\", line 2626, in hy_compile\n",
      "    result = compiler.compile(tree)\n",
      "  File \"/usr/lib/python3.6/site-packages/hy/compiler.py\", line 411, in compile\n",
      "    ret = self.compile_atom(_type, tree)\n",
      "  File \"/usr/lib/python3.6/site-packages/hy/compiler.py\", line 403, in compile_atom\n",
      "    ret = _compile_table[atom_type](self, atom)\n",
      "  File \"/usr/lib/python3.6/site-packages/hy/compiler.py\", line 607, in compile_raw_list\n",
      "    ret = self._compile_branch(entries)\n",
      "  File \"/usr/lib/python3.6/site-packages/hy/compiler.py\", line 467, in _compile_branch\n",
      "    return _branch(self.compile(expr) for expr in exprs)\n",
      "  File \"/usr/lib/python3.6/site-packages/hy/compiler.py\", line 294, in _branch\n",
      "    results = list(results)\n",
      "  File \"/usr/lib/python3.6/site-packages/hy/compiler.py\", line 467, in <genexpr>\n",
      "    return _branch(self.compile(expr) for expr in exprs)\n",
      "  File \"/usr/lib/python3.6/site-packages/hy/compiler.py\", line 411, in compile\n",
      "    ret = self.compile_atom(_type, tree)\n",
      "  File \"/usr/lib/python3.6/site-packages/hy/compiler.py\", line 403, in compile_atom\n",
      "    ret = _compile_table[atom_type](self, atom)\n",
      "  File \"/usr/lib/python3.6/site-packages/hy/compiler.py\", line 2020, in compile_expression\n",
      "    ret = self.compile_atom(fn, expression)\n",
      "  File \"/usr/lib/python3.6/site-packages/hy/compiler.py\", line 403, in compile_atom\n",
      "    ret = _compile_table[atom_type](self, atom)\n",
      "  File \"/usr/lib/python3.6/site-packages/hy/compiler.py\", line 815, in compile_try_expression\n",
      "    raise HyTypeError(expr, \"Unknown expression in `try'\")\n",
      "hy.errors.HyTypeError:   File \"None\", line 2, column 1\n",
      "\n",
      "HyTypeError: b\"Unknown expression in `try'\"\n",
      "\n",
      "\n",
      "\n",
      "\u001b[0m"
     ]
    }
   ],
   "source": [
    ";; repeat clause\n",
    "(iter\n",
    "  (repeat 5)\n",
    "  (print \"spam\"))"
   ]
  },
  {
   "cell_type": "code",
   "execution_count": 3,
   "metadata": {
    "autoscroll": false,
    "ein.tags": "worksheet-0",
    "slideshow": {
     "slide_type": "-"
    }
   },
   "outputs": [
    {
     "name": "stdout",
     "output_type": "stream",
     "text": [
      "1\n",
      "2\n",
      "3\n"
     ]
    }
   ],
   "source": [
    ";; loop on iterable \n",
    "(iter\n",
    "  (for i in '(1 2 3))\n",
    "  (print i))"
   ]
  },
  {
   "cell_type": "code",
   "execution_count": 4,
   "metadata": {
    "autoscroll": false,
    "ein.tags": "worksheet-0",
    "slideshow": {
     "slide_type": "-"
    }
   },
   "outputs": [
    {
     "name": "stdout",
     "output_type": "stream",
     "text": [
      "[1, 2, 3]\n",
      "[2, 3]\n",
      "[3]\n"
     ]
    }
   ],
   "source": [
    ";; arbitrary consuming(or transforming) function\n",
    "(defn cdr (lst)\n",
    "  (list (rest lst)))\n",
    "\n",
    "(iter\n",
    "  (for x = [1 2 3] then (cdr x))\n",
    "  (if x\n",
    "      (print x)\n",
    "      (break)))"
   ]
  },
  {
   "cell_type": "code",
   "execution_count": 5,
   "metadata": {
    "autoscroll": false,
    "ein.tags": "worksheet-0",
    "slideshow": {
     "slide_type": "-"
    }
   },
   "outputs": [
    {
     "name": "stdout",
     "output_type": "stream",
     "text": [
      "0\n",
      "2\n",
      "4\n",
      "6\n",
      "8\n"
     ]
    }
   ],
   "source": [
    ";; while clause\n",
    "(iter\n",
    "  (for i = 0 then (+ i 2))\n",
    "  (while (< i 10))\n",
    "  (print i))"
   ]
  },
  {
   "cell_type": "code",
   "execution_count": 6,
   "metadata": {
    "scrolled": true
   },
   "outputs": [
    {
     "name": "stdout",
     "output_type": "stream",
     "text": [
      "5\n",
      "6\n",
      "7\n",
      "8\n",
      "9\n"
     ]
    }
   ],
   "source": [
    ";; drop clause\n",
    "(iter\n",
    "  (drop 5)\n",
    "  (for i in (range 10))\n",
    "  (print i))"
   ]
  },
  {
   "cell_type": "code",
   "execution_count": 7,
   "metadata": {},
   "outputs": [
    {
     "name": "stdout",
     "output_type": "stream",
     "text": [
      "5\n",
      "6\n",
      "7\n",
      "8\n",
      "9\n"
     ]
    }
   ],
   "source": [
    ";; drop while clause\n",
    "(iter\n",
    "  (dropwhile (< i 5))\n",
    "  (for i in (range 10))\n",
    "  (print i))"
   ]
  },
  {
   "cell_type": "code",
   "execution_count": 8,
   "metadata": {
    "autoscroll": false,
    "ein.tags": "worksheet-0",
    "slideshow": {
     "slide_type": "-"
    }
   },
   "outputs": [
    {
     "name": "stdout",
     "output_type": "stream",
     "text": [
      "[2, 4, 6]\n",
      "[4, 6]\n",
      "[6]\n"
     ]
    }
   ],
   "source": [
    ";; dependent parallel variables\n",
    "(iter\n",
    "  (for x = '(1 2 3) then (cdr x))\n",
    "  (for y = (list (map (fn (el) (* el 2)) x)))\n",
    "  (if x\n",
    "      (print y)\n",
    "      (break)))"
   ]
  },
  {
   "cell_type": "code",
   "execution_count": 9,
   "metadata": {
    "autoscroll": false,
    "ein.tags": "worksheet-0",
    "slideshow": {
     "slide_type": "-"
    }
   },
   "outputs": [
    {
     "name": "stdout",
     "output_type": "stream",
     "text": [
      "LOOP Start!\n",
      "1\n",
      "2\n",
      "3\n"
     ]
    }
   ],
   "source": [
    ";; initial proc\n",
    "(iter\n",
    "  (initially\n",
    "    (print \"LOOP Start!\"))\n",
    "  (for i in '(1 2 3))\n",
    "  (print i))"
   ]
  },
  {
   "cell_type": "code",
   "execution_count": 10,
   "metadata": {
    "autoscroll": false,
    "ein.tags": "worksheet-0",
    "slideshow": {
     "slide_type": "-"
    }
   },
   "outputs": [
    {
     "name": "stdout",
     "output_type": "stream",
     "text": [
      "1\n",
      "2\n",
      "3\n",
      "LOOP Finish!\n"
     ]
    }
   ],
   "source": [
    ";; final proc\n",
    "(iter\n",
    "  (for i in '(1 2 3))\n",
    "  (print i)\n",
    "  (finally\n",
    "    (print \"LOOP Finish!\")))"
   ]
  },
  {
   "cell_type": "code",
   "execution_count": 11,
   "metadata": {
    "autoscroll": false,
    "ein.tags": "worksheet-0",
    "slideshow": {
     "slide_type": "-"
    }
   },
   "outputs": [
    {
     "name": "stdout",
     "output_type": "stream",
     "text": [
      "1\n",
      "2\n",
      "3\n",
      "1\n",
      "2\n",
      "3\n",
      "1\n",
      "2\n",
      "3\n"
     ]
    }
   ],
   "source": [
    ";; nested loop\n",
    "(iter\n",
    "  (for i in '(1 2 3))\n",
    "  (iter\n",
    "    (for j in '(1 2 3))\n",
    "    (print j)))"
   ]
  },
  {
   "cell_type": "code",
   "execution_count": 12,
   "metadata": {
    "autoscroll": false,
    "ein.tags": "worksheet-0",
    "slideshow": {
     "slide_type": "-"
    }
   },
   "outputs": [
    {
     "name": "stdout",
     "output_type": "stream",
     "text": [
      "[0, 20, 40, 60, 80]\n"
     ]
    }
   ],
   "source": [
    ";; collecting items into (python)list\n",
    "(print (iter\n",
    "         (for i in (range 10))\n",
    "         (when (= (% i 2) 0)\n",
    "           (collect (* 10 i)))))"
   ]
  },
  {
   "cell_type": "code",
   "execution_count": 13,
   "metadata": {
    "autoscroll": false,
    "ein.tags": "worksheet-0",
    "slideshow": {
     "slide_type": "-"
    }
   },
   "outputs": [
    {
     "name": "stdout",
     "output_type": "stream",
     "text": [
      "[0, 2, 4, 6, 8]\n",
      "[1, 3, 5, 7, 9]\n"
     ]
    }
   ],
   "source": [
    ";; collecting items into accumulator\n",
    "(iter\n",
    "  (for i in (range 10))\n",
    "  (if (= (% i 2) 0)\n",
    "      (collect i into evns)\n",
    "      (collect i into odds))\n",
    "  (finally\n",
    "    (print evns)\n",
    "    (print odds)))"
   ]
  },
  {
   "cell_type": "code",
   "execution_count": 14,
   "metadata": {
    "autoscroll": false,
    "ein.tags": "worksheet-0",
    "slideshow": {
     "slide_type": "-"
    }
   },
   "outputs": [
    {
     "name": "stdout",
     "output_type": "stream",
     "text": [
      "[0, 0, 1, 0, 1, 2]\n"
     ]
    }
   ],
   "source": [
    ";; appending list items into (python) list\n",
    "(print (iter\n",
    "         (for i in (range 1 4))\n",
    "         (append (list (range i)))))"
   ]
  },
  {
   "cell_type": "code",
   "execution_count": 15,
   "metadata": {
    "autoscroll": false,
    "ein.tags": "worksheet-0",
    "slideshow": {
     "slide_type": "-"
    }
   },
   "outputs": [
    {
     "name": "stdout",
     "output_type": "stream",
     "text": [
      "9\n"
     ]
    }
   ],
   "source": [
    ";; maximizing\n",
    "(print (iter\n",
    "         (for i in (range 10))\n",
    "         (maximize i)))"
   ]
  },
  {
   "cell_type": "code",
   "execution_count": 16,
   "metadata": {
    "autoscroll": false,
    "ein.tags": "worksheet-0",
    "slideshow": {
     "slide_type": "-"
    }
   },
   "outputs": [
    {
     "name": "stdout",
     "output_type": "stream",
     "text": [
      "0\n"
     ]
    }
   ],
   "source": [
    ";; minimizing\n",
    "(print (iter\n",
    "         (for i in (range 10))\n",
    "         (minimize i)))"
   ]
  },
  {
   "cell_type": "code",
   "execution_count": 17,
   "metadata": {
    "autoscroll": false,
    "ein.tags": "worksheet-0",
    "slideshow": {
     "slide_type": "-"
    }
   },
   "outputs": [
    {
     "name": "stdout",
     "output_type": "stream",
     "text": [
      "45\n"
     ]
    }
   ],
   "source": [
    ";; summing up the given values\n",
    "(print (iter\n",
    "         (for i in (range 10))\n",
    "         (sum i)))"
   ]
  },
  {
   "cell_type": "code",
   "execution_count": 18,
   "metadata": {
    "autoscroll": false,
    "ein.tags": "worksheet-0",
    "slideshow": {
     "slide_type": "-"
    }
   },
   "outputs": [
    {
     "name": "stdout",
     "output_type": "stream",
     "text": [
      "5\n"
     ]
    }
   ],
   "source": [
    ";; counting not nil(False) form\n",
    "(print (iter\n",
    "         (for i in (range 10))\n",
    "         (count (= (% i 2) 0))))"
   ]
  },
  {
   "cell_type": "code",
   "execution_count": 19,
   "metadata": {
    "autoscroll": false,
    "ein.tags": "worksheet-0",
    "slideshow": {
     "slide_type": "-"
    }
   },
   "outputs": [
    {
     "name": "stdout",
     "output_type": "stream",
     "text": [
      "0\n",
      "Escape!\n"
     ]
    }
   ],
   "source": [
    ";; escape with sexp value\n",
    "(print (iter\n",
    "         (for i in (range 10))\n",
    "         (print i)\n",
    "         (return \"Escape!\"))) "
   ]
  },
  {
   "cell_type": "code",
   "execution_count": 20,
   "metadata": {
    "autoscroll": false,
    "ein.tags": "worksheet-0",
    "slideshow": {
     "slide_type": "-"
    }
   },
   "outputs": [
    {
     "name": "stdout",
     "output_type": "stream",
     "text": [
      "Thanks, but maybe not this time.\n"
     ]
    }
   ],
   "source": [
    ";;escape from initially clause\n",
    "(print (iter\n",
    "         (initially\n",
    "           (return \"Thanks, but maybe not this time.\"))\n",
    "         (for i in (range 10))\n",
    "         (heavy-function)))"
   ]
  },
  {
   "cell_type": "code",
   "execution_count": 21,
   "metadata": {
    "autoscroll": false,
    "ein.tags": "worksheet-0",
    "slideshow": {
     "slide_type": "-"
    }
   },
   "outputs": [
    {
     "name": "stdout",
     "output_type": "stream",
     "text": [
      "45\n"
     ]
    }
   ],
   "source": [
    ";;escape from finally clause\n",
    "(print (iter\n",
    "         (for i in (range 10))\n",
    "         (append (list (range i)) into ret-list)\n",
    "         (finally\n",
    "           (return (len ret-list)))))"
   ]
  },
  {
   "cell_type": "code",
   "execution_count": 22,
   "metadata": {
    "autoscroll": false,
    "ein.tags": "worksheet-0",
    "scrolled": true,
    "slideshow": {
     "slide_type": "-"
    }
   },
   "outputs": [
    {
     "name": "stdout",
     "output_type": "stream",
     "text": [
      "i: 0\n",
      "j: 0\n",
      "100\n"
     ]
    }
   ],
   "source": [
    ";; global escape with tag\n",
    "(print (iter :top-level\n",
    "             (for i in (range 10))\n",
    "             (print \"i:\" i)\n",
    "             (iter\n",
    "               (while True)\n",
    "               (iter\n",
    "                 (for j in (range 5))\n",
    "                 (print \"j:\" j)\n",
    "                 (return-from ':top-level 100)))))"
   ]
  },
  {
   "cell_type": "code",
   "execution_count": 23,
   "metadata": {
    "autoscroll": false,
    "ein.tags": "worksheet-0",
    "slideshow": {
     "slide_type": "-"
    }
   },
   "outputs": [
    {
     "name": "stdout",
     "output_type": "stream",
     "text": [
      "1\n",
      "2\n",
      "3\n",
      "4\n"
     ]
    }
   ],
   "source": [
    ";; destructuring bind in with clause\n",
    "(iter\n",
    "  (with (a b (c d)) = '(1 2 (3 4)))\n",
    "  (print a)\n",
    "  (print b)\n",
    "  (print c)\n",
    "  (print d)\n",
    "  (break))"
   ]
  },
  {
   "cell_type": "code",
   "execution_count": 24,
   "metadata": {
    "autoscroll": false,
    "ein.tags": "worksheet-0",
    "slideshow": {
     "slide_type": "-"
    }
   },
   "outputs": [
    {
     "name": "stdout",
     "output_type": "stream",
     "text": [
      "0 5\n",
      "1 6\n"
     ]
    }
   ],
   "source": [
    ";; destructuring bind in for clause part 1\n",
    "(iter\n",
    "  (for i in (range 2))  \n",
    "  (for (a b) = [i (+ i 5)])\n",
    "  (print a b))"
   ]
  },
  {
   "cell_type": "code",
   "execution_count": 25,
   "metadata": {
    "autoscroll": false,
    "ein.tags": "worksheet-0",
    "slideshow": {
     "slide_type": "-"
    }
   },
   "outputs": [
    {
     "name": "stdout",
     "output_type": "stream",
     "text": [
      "a 10\n",
      "b 20\n"
     ]
    }
   ],
   "source": [
    ";; destructuring bind in for clause part 2\n",
    "(iter\n",
    "  (for (k v) in (.items {\"a\" 10 \"b\" 20}))\n",
    "  (print k v))"
   ]
  },
  {
   "cell_type": "code",
   "execution_count": 26,
   "metadata": {
    "autoscroll": false,
    "ein.tags": "worksheet-0",
    "slideshow": {
     "slide_type": "-"
    }
   },
   "outputs": [
    {
     "name": "stdout",
     "output_type": "stream",
     "text": [
      "0 0 0\n",
      "1 1 1\n",
      "2 2 2\n",
      "3 3 3\n",
      "4 4 4\n",
      "5 5 5\n",
      "6 6 6\n",
      "7 7 7\n",
      "8 8 8\n",
      "9 9 9\n"
     ]
    }
   ],
   "source": [
    ";; destructuring bind in for clause: example\n",
    "(iter\n",
    "  (for ((a b) c) in (reduce zip [(range 10) (range 10) (range 10)]))\n",
    "  (print a b c))"
   ]
  },
  {
   "cell_type": "code",
   "execution_count": null,
   "metadata": {},
   "outputs": [],
   "source": []
  }
 ],
 "metadata": {
  "kernelspec": {
   "display_name": "Calysto Hy",
   "language": "hy",
   "name": "calysto_hy"
  },
  "language_info": {
   "codemirror_mode": {
    "name": "scheme"
   },
   "mimetype": "text/x-hylang",
   "name": "hy",
   "pygments_lexer": "lisp"
  },
  "name": "Usage.ipynb"
 },
 "nbformat": 4,
 "nbformat_minor": 2
}
